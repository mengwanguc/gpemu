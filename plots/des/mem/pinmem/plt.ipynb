{
 "cells": [
  {
   "cell_type": "code",
   "execution_count": 2,
   "metadata": {},
   "outputs": [
    {
     "data": {
      "image/png": "[encoded data removed]",
      "text/plain": [
       "<Figure size 140x100 with 1 Axes>"
      ]
     },
     "metadata": {},
     "output_type": "display_data"
    }
   ],
   "source": [
    "import matplotlib.pyplot as plt\n",
    "import numpy as np\n",
    "import pandas as pd\n",
    "\n",
    "fontsize=8\n",
    "\n",
    "import matplotlib\n",
    "matplotlib.rcParams['pdf.fonttype'] = 42\n",
    "matplotlib.rcParams['ps.fonttype'] = 42\n",
    "\n",
    "plt.rcParams[\"font.family\"] = \"Arial\"\n",
    "plt.rcParams[\"font.size\"] = fontsize\n",
    "\n",
    "\n",
    "n_groups = 4\n",
    "columns = ['epoch_time']\n",
    "\n",
    "df = pd.read_csv('time.dat', sep='\\t', header=None, names=columns)\n",
    "\n",
    "epoch_time = df['epoch_time'].to_list()\n",
    "\n",
    "colors = ['red', 'orange', '#0BEF48']\n",
    "labels = ['Real\\nGPU', 'Emu.\\nw/o PM', 'Emu.\\nw/ PM']\n",
    "hatches = [\"//\", \"\\\\\\\\\", \"xx\"]\n",
    "\n",
    "# create plot\n",
    "fig, ax1 = plt.subplots(1, 1)\n",
    "\n",
    "ax1.set_ylim(0,500)\n",
    "\n",
    "bar_width = 0.5\n",
    "\n",
    "  \n",
    "for i in range(len(labels)):\n",
    "    plt.bar(labels[i], epoch_time[i], color=colors[i], width=bar_width, hatch=hatches[i], edgecolor=\"black\")\n",
    "\n",
    "\n",
    "ax1.set_ylabel('Epoch time (s)', fontsize=fontsize)\n",
    "# ax1.set_xlabel('Setup', fontsize=fontsize)\n",
    "\n",
    "# plt.xticks(xtics, xlabels)\n",
    "\n",
    "# legend reverse order\n",
    "# ax1.legend(markerfirst=False, bbox_to_anchor=(0.95, 1.35))\n",
    "# ax2.legend(loc=(0.01, 0.97), ncol=4, frameon=False, markerfirst=False)\n",
    "# ax1.legend()\n",
    "\n",
    "fig.set_size_inches(1.4, 1)\n",
    "fig.set_dpi(100)\n",
    "\n",
    "plt.savefig('figure.eps',  bbox_inches='tight')\n",
    "\n",
    "plt.show()"
   ]
  },
  {
   "cell_type": "code",
   "execution_count": null,
   "metadata": {},
   "outputs": [],
   "source": []
  }
 ],
 "metadata": {
  "kernelspec": {
   "display_name": "napp-dev",
   "language": "python",
   "name": "python3"
  },
  "language_info": {
   "codemirror_mode": {
    "name": "ipython",
    "version": 3
   },
   "file_extension": ".py",
   "mimetype": "text/x-python",
   "name": "python",
   "nbconvert_exporter": "python",
   "pygments_lexer": "ipython3",
   "version": "3.11.6"
  },
  "orig_nbformat": 4
 },
 "nbformat": 4,
 "nbformat_minor": 2
}
