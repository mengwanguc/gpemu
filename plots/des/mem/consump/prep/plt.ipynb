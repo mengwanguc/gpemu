{
 "cells": [
  {
   "cell_type": "code",
   "execution_count": 1,
   "metadata": {},
   "outputs": [
    {
     "data": {
      "image/png": "[encoded data removed]",
      "text/plain": [
       "<Figure size 150x100 with 1 Axes>"
      ]
     },
     "metadata": {},
     "output_type": "display_data"
    }
   ],
   "source": [
    "import numpy as np\n",
    "import matplotlib.pyplot as plt\n",
    "import matplotlib\n",
    "import pandas as pd\n",
    "from scipy.stats import pearsonr\n",
    "\n",
    "matplotlib.rcParams['pdf.fonttype'] = 42\n",
    "matplotlib.rcParams['ps.fonttype'] = 42\n",
    "\n",
    "title_font_size = 8\n",
    "tick_font_size = 8\n",
    "label_size = 8\n",
    "\n",
    "plt.rcParams[\"font.family\"] = \"Arial\"\n",
    "\n",
    "linewidth=1\n",
    "\n",
    "\n",
    "all_times = []\n",
    "all_batches = []\n",
    "filename = 'mem-b64-t4.txt'\n",
    "legends = ['ResNet50-P100']\n",
    "colors = ['blue']\n",
    "columns = ['timestamp', 'mem']\n",
    "\n",
    "\n",
    "with open(filename) as f:\n",
    "\tdf = pd.read_csv(filename, delimiter='\\t', names=columns)\n",
    "\tdf['mem'] = df['mem'] / 2 ** 30\n",
    "\tmem_all = df['mem'].to_list()\n",
    "\n",
    "\ttimestamp = df['timestamp'].to_list()\n",
    "\tfirsttime = timestamp[0]\n",
    "\ttimestamp = [x-firsttime for x in timestamp]\n",
    "\t\t\n",
    "\n",
    "# print(batches)\n",
    "# print(times)\n",
    "\n",
    "figure, axes = plt.subplots()\n",
    "# axes.set_aspect( 1.1 )\n",
    "x_range = [0,100]\n",
    "y_range = [0,3]\n",
    "axes.set_xlim(x_range)\n",
    "axes.set_ylim(y_range)\n",
    "plt.xticks(fontsize=tick_font_size)\n",
    "plt.yticks(fontsize=tick_font_size)\n",
    "\n",
    "\t# plt.plot(all_batches[i], all_times[i], linewidth=linewidth, label=legends[i], color=colors[i])\n",
    "plt.plot(timestamp, mem_all, linewidth=1, color='purple')\n",
    "\n",
    "plt.xlabel('Time (s)', fontsize=title_font_size)\n",
    "plt.ylabel('Mem. usage (GB)', fontsize=title_font_size)\n",
    "plt.title('(b) DALI Prep. GPU Mem. Usage',  fontsize=title_font_size, y=1.05, x=0.35)\n",
    "# Time v.s. Batch Size\n",
    "\n",
    "# Calculate Pearson correlation coefficient\n",
    "\n",
    "\n",
    "# plt.legend(fontsize=label_size, markerfirst=False, borderpad=0.2, loc='upper left')\n",
    "figure.set_size_inches(1.5, 1)\n",
    "figure.set_dpi(100)\n",
    "plt.savefig('mem.eps', bbox_inches='tight', transparent=True)\n",
    "\n",
    "plt.show()"
   ]
  },
  {
   "cell_type": "code",
   "execution_count": null,
   "metadata": {},
   "outputs": [],
   "source": []
  }
 ],
 "metadata": {
  "kernelspec": {
   "display_name": "napp-dev",
   "language": "python",
   "name": "python3"
  },
  "language_info": {
   "codemirror_mode": {
    "name": "ipython",
    "version": 3
   },
   "file_extension": ".py",
   "mimetype": "text/x-python",
   "name": "python",
   "nbconvert_exporter": "python",
   "pygments_lexer": "ipython3",
   "version": "3.11.6"
  },
  "orig_nbformat": 4
 },
 "nbformat": 4,
 "nbformat_minor": 2
}
