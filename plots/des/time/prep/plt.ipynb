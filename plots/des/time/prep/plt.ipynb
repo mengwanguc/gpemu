{
 "cells": [
  {
   "cell_type": "code",
   "execution_count": 1,
   "metadata": {},
   "outputs": [
    {
     "data": {
      "image/png": "[encoded data removed]",
      "text/plain": [
       "<Figure size 150x100 with 1 Axes>"
      ]
     },
     "metadata": {},
     "output_type": "display_data"
    }
   ],
   "source": [
    "import numpy as np\n",
    "import matplotlib.pyplot as plt\n",
    "import matplotlib\n",
    "import pandas as pd\n",
    "\n",
    "import matplotlib\n",
    "matplotlib.rcParams['pdf.fonttype'] = 42\n",
    "matplotlib.rcParams['ps.fonttype'] = 42\n",
    "\n",
    "fontsize=8\n",
    "\n",
    "plt.rcParams[\"font.family\"] = 'Arial'\n",
    "linewidth=1\n",
    "\n",
    "figure, axes = plt.subplots()\n",
    "x_range = [0,0.03]\n",
    "y_range = [0,1]\n",
    "axes.set_xlim(x_range)\n",
    "axes.set_ylim(y_range)\n",
    "xticks = [0, 0.01, 0.02]\n",
    "xtick_labels = ['0', 10, 20]\n",
    "yticks = [0,0.2,0.4,0.6,0.8,1]\n",
    "plt.xticks(xticks, xtick_labels, fontsize=fontsize)\n",
    "plt.yticks(yticks, yticks, fontsize=fontsize)\n",
    "\n",
    "\n",
    "filename = 'norm-ffcv.csv'\n",
    "columns = ['prep_time']\n",
    "df = pd.read_csv(filename, delimiter='\\t', names=columns)\n",
    "prep_time = [float(x) for x in df['prep_time'].to_list()]\n",
    "prep_time.insert(0,0)\n",
    "prep_time_sorted = np.sort(prep_time)\n",
    "prep_time_cdf = np.arange(0, len(prep_time_sorted)) / float(len(prep_time_sorted)-1)\n",
    "plt.plot(prep_time_sorted, prep_time_cdf, linewidth=linewidth, label='Norm-GPU-FFCV', color='orange')\n",
    "\n",
    "filename = 'decode-dali.csv'\n",
    "columns = ['prep_time']\n",
    "df = pd.read_csv(filename, delimiter='\\t', names=columns)\n",
    "prep_time = [float(x) for x in df['prep_time'].to_list()]\n",
    "prep_time.insert(0,0)\n",
    "prep_time_sorted = np.sort(prep_time)\n",
    "prep_time_cdf = np.arange(0, len(prep_time_sorted)) / float(len(prep_time_sorted)-1)\n",
    "plt.plot(prep_time_sorted, prep_time_cdf, linewidth=linewidth, label='Decode-Mix-DALI', color='purple', ls=\"--\")\n",
    "\n",
    "\n",
    "plt.xlabel('Per-batch preproc. time (ms)', fontsize=fontsize, x=0.35)\n",
    "plt.ylabel('CDF', fontsize=fontsize)\n",
    "# plt.title('CDF of per-batch preproc. time', fontsize=fontsize, y=1.05)\n",
    "\n",
    "plt.legend(fontsize=fontsize, markerfirst=False, borderpad=0.2,\n",
    "           bbox_to_anchor=(0.5, 0.05),\n",
    "           handlelength=1, handletextpad=0.3, frameon=False,\n",
    "           loc=\"lower center\")\n",
    "figure.set_size_inches(1.5, 1)\n",
    "figure.set_dpi(100)\n",
    "plt.savefig('cdf.eps', bbox_inches='tight')\n",
    "\n",
    "plt.show()"
   ]
  },
  {
   "cell_type": "code",
   "execution_count": null,
   "metadata": {},
   "outputs": [],
   "source": []
  }
 ],
 "metadata": {
  "kernelspec": {
   "display_name": "dev",
   "language": "python",
   "name": "python3"
  },
  "language_info": {
   "codemirror_mode": {
    "name": "ipython",
    "version": 3
   },
   "file_extension": ".py",
   "mimetype": "text/x-python",
   "name": "python",
   "nbconvert_exporter": "python",
   "pygments_lexer": "ipython3",
   "version": "3.11.6"
  },
  "orig_nbformat": 4
 },
 "nbformat": 4,
 "nbformat_minor": 2
}
