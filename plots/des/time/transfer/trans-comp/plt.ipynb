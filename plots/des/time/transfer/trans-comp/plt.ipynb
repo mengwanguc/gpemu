{
 "cells": [
  {
   "cell_type": "code",
   "execution_count": 1,
   "metadata": {},
   "outputs": [
    {
     "data": {
      "image/png": "[encoded data removed]",
      "text/plain": [
       "<Figure size 140x100 with 1 Axes>"
      ]
     },
     "metadata": {},
     "output_type": "display_data"
    }
   ],
   "source": [
    "import matplotlib.pyplot as plt\n",
    "import pandas as pd\n",
    "import numpy as np\n",
    "\n",
    "import matplotlib\n",
    "matplotlib.rcParams['pdf.fonttype'] = 42\n",
    "matplotlib.rcParams['ps.fonttype'] = 42\n",
    "\n",
    "fontsize=8\n",
    "plt.rcParams[\"font.family\"] = \"Arial\"\n",
    "plt.rcParams[\"font.size\"] = fontsize\n",
    "\n",
    "fig = plt.gcf()\n",
    "fig.set_dpi(100)\n",
    "\n",
    "\n",
    "fig.set_size_inches(1.4, 1)\n",
    "\n",
    "columns = ['model', 'transfer', 'compute']\n",
    "\n",
    "# ssd, 24 workers, 8 v100\n",
    "df = pd.read_csv('data.csv', sep='\\t', header=None, names=columns)\n",
    "\n",
    "num_subcategories = 2\n",
    "transfer_values = df['transfer'].tolist()\n",
    "compute_values = df['compute'].tolist()\n",
    "\n",
    "norm_transfer = [transfer_values[i]/compute_values[i] for i in range(len(transfer_values))]\n",
    "norm_compute = [1 for i in range(len(transfer_values))]\n",
    "\n",
    "models = df['model'].tolist()\n",
    "categories = models\n",
    "\n",
    "bar_width = 0.3\n",
    "index = np.arange(len(categories))\n",
    "\n",
    "# Plotting the bar chart\n",
    "plt.bar(index, norm_compute, bar_width, label='Compute', color='slateblue', hatch=\"xx\", edgecolor=\"black\")\n",
    "plt.bar(index + 1 * bar_width, norm_transfer, bar_width, label='Transfer', color='brown', hatch=\"//\", edgecolor=\"black\")\n",
    "\n",
    "# plt.legend(loc=\"upper center\", bbox_to_anchor=(1.15, 1.5), ncol=3, markerfirst=False, columnspacing=1)\n",
    "plt.legend(loc=\"upper right\", markerfirst=False, columnspacing=1, frameon=False, ncols=2,\n",
    "            handlelength=1, handletextpad=0.4, bbox_to_anchor=(1.05, 1.32))\n",
    "plt.annotate(\"w/ GPEmu\", xy=(0.5, 225), xytext=(0.5, 210))\n",
    "\n",
    "plt.ylim(0,1)\n",
    "# Adding labels and title\n",
    "plt.xticks(index + (bar_width * num_subcategories) / 2, categories, fontsize=fontsize)\n",
    "plt.yticks(fontsize=fontsize)\n",
    "plt.xlabel('Model', fontsize=fontsize, labelpad=1.5)\n",
    "plt.ylabel('Time (normalized)', fontsize=fontsize, labelpad=1)\n",
    "# plt.title('Distributed Cache w/wo Locality-aware',fontsize=fontsize, pad=8)\n",
    "\n",
    "plt.savefig('speedup.eps',  bbox_inches='tight')\n",
    "# Displaying the chart\n",
    "plt.show()\n"
   ]
  },
  {
   "cell_type": "code",
   "execution_count": null,
   "metadata": {},
   "outputs": [],
   "source": []
  }
 ],
 "metadata": {
  "kernelspec": {
   "display_name": "napp-dev",
   "language": "python",
   "name": "python3"
  },
  "language_info": {
   "codemirror_mode": {
    "name": "ipython",
    "version": 3
   },
   "file_extension": ".py",
   "mimetype": "text/x-python",
   "name": "python",
   "nbconvert_exporter": "python",
   "pygments_lexer": "ipython3",
   "version": "3.11.6"
  },
  "orig_nbformat": 4
 },
 "nbformat": 4,
 "nbformat_minor": 2
}
