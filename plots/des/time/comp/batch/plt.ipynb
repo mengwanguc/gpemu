{
 "cells": [
  {
   "cell_type": "code",
   "execution_count": 1,
   "metadata": {},
   "outputs": [
    {
     "name": "stdout",
     "output_type": "stream",
     "text": [
      "0.9977735138046675\n"
     ]
    },
    {
     "data": {
      "image/png": "[encoded data removed]",
      "text/plain": [
       "<Figure size 150x100 with 1 Axes>"
      ]
     },
     "metadata": {},
     "output_type": "display_data"
    }
   ],
   "source": [
    "import numpy as np\n",
    "import matplotlib.pyplot as plt\n",
    "import matplotlib\n",
    "import pandas as pd\n",
    "from scipy.stats import pearsonr\n",
    "\n",
    "import matplotlib\n",
    "matplotlib.rcParams['pdf.fonttype'] = 42\n",
    "matplotlib.rcParams['ps.fonttype'] = 42\n",
    "\n",
    "title_font_size = 8\n",
    "tick_font_size = 8\n",
    "label_size = 8\n",
    "\n",
    "plt.rcParams[\"font.family\"] = \"Arial\"\n",
    "\n",
    "linewidth=1\n",
    "\n",
    "\n",
    "all_times = []\n",
    "all_batches = []\n",
    "filenames = ['alexnet-p100.txt']\n",
    "legends = ['ResNet18-P100']\n",
    "colors = ['blue']\n",
    "\n",
    "for filename in filenames:\n",
    "\twith open(filename) as f:\n",
    "\t\tdf = pd.read_csv(filename, delimiter='\\t')\n",
    "\t\ttimes = df['gpu_time'].to_list()\n",
    "\t\tbatches = df['batch_size'].to_list()\n",
    "\t\tall_times.append(times)\n",
    "\t\tall_batches.append(batches)\n",
    "\n",
    "# print(batches)\n",
    "# print(times)\n",
    "\n",
    "figure, axes = plt.subplots()\n",
    "# axes.set_aspect( 1.1 )\n",
    "x_range = [0,128]\n",
    "y_range = [0,0.06]\n",
    "axes.set_xlim(x_range)\n",
    "axes.set_ylim(y_range)\n",
    "plt.xticks([0,32,64,96,128], fontsize=tick_font_size)\n",
    "plt.yticks([0, 0.05], [0, 50], fontsize=tick_font_size)\n",
    "\n",
    "for i in range(len(filenames)):\n",
    "\t# plt.plot(all_batches[i], all_times[i], linewidth=linewidth, label=legends[i], color=colors[i])\n",
    "\tplt.plot(all_batches[i], all_times[i], lw=1, label=legends[i], color=colors[i])\n",
    "\tcorrelation_coefficient, _ = pearsonr(all_batches[i][0:128], all_times[i][0:128])\n",
    "\tprint(correlation_coefficient)\n",
    "plt.xlabel('Batch size', fontsize=title_font_size)\n",
    "plt.ylabel('Compute time (ms)', fontsize=title_font_size, y=0.4)\n",
    "plt.title('(b) Compute time vs. batch sz', fontsize=title_font_size, y=1.05, x=0.35)\n",
    "# Time v.s. Batch Size\n",
    "\n",
    "# Calculate Pearson correlation coefficient\n",
    "\n",
    "\n",
    "# plt.legend(fontsize=label_size, markerfirst=False, borderpad=0.2, loc='upper left')\n",
    "figure.set_size_inches(1.5, 1)\n",
    "figure.set_dpi(100)\n",
    "plt.savefig('smallbatch.eps', bbox_inches='tight', transparent=True)\n",
    "\n",
    "plt.show()"
   ]
  },
  {
   "cell_type": "code",
   "execution_count": null,
   "metadata": {},
   "outputs": [],
   "source": []
  }
 ],
 "metadata": {
  "kernelspec": {
   "display_name": "napp-dev",
   "language": "python",
   "name": "python3"
  },
  "language_info": {
   "codemirror_mode": {
    "name": "ipython",
    "version": 3
   },
   "file_extension": ".py",
   "mimetype": "text/x-python",
   "name": "python",
   "nbconvert_exporter": "python",
   "pygments_lexer": "ipython3",
   "version": "3.11.6"
  },
  "orig_nbformat": 4
 },
 "nbformat": 4,
 "nbformat_minor": 2
}
