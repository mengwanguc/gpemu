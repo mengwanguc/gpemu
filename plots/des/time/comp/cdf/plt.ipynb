{
 "cells": [
  {
   "cell_type": "code",
   "execution_count": 1,
   "metadata": {},
   "outputs": [
    {
     "data": {
      "image/png": "[encoded data removed]",
      "text/plain": [
       "<Figure size 148x100 with 1 Axes>"
      ]
     },
     "metadata": {},
     "output_type": "display_data"
    }
   ],
   "source": [
    "import numpy as np\n",
    "import matplotlib.pyplot as plt\n",
    "import matplotlib\n",
    "import pandas as pd\n",
    "\n",
    "import matplotlib\n",
    "matplotlib.rcParams['pdf.fonttype'] = 42\n",
    "matplotlib.rcParams['ps.fonttype'] = 42\n",
    "\n",
    "fontsize=8\n",
    "\n",
    "plt.rcParams[\"font.family\"] = 'Arial'\n",
    "linewidth=1\n",
    "\n",
    "\n",
    "filename = 'resnet50-batch128-v100.csv'\n",
    "columns = ['cpu2gpu_time', 'forward_time', 'backward_time']\n",
    "\n",
    "df = pd.read_csv(filename, delimiter='\\t', names=columns)\n",
    "forward = [float(x) for x in df['forward_time'].to_list()]\n",
    "backward = [float(x) for x in df['backward_time'].to_list()]\n",
    "# # drop the first 5 values\n",
    "# dl = dl[5:-1]\n",
    "forward.insert(0,0)\n",
    "backward.insert(0,0)\n",
    "\n",
    "\n",
    "figure, axes = plt.subplots()\n",
    "x_range = [0,0.27]\n",
    "y_range = [0,1]\n",
    "axes.set_xlim(x_range)\n",
    "axes.set_ylim(y_range)\n",
    "plt.xticks([0,0.1,0.2], ['0',100,200],fontsize=fontsize)\n",
    "plt.yticks([0,0.2,0.4,0.6,0.8,1],[0,0.2,0.4,0.6,0.8,1], fontsize=fontsize)\n",
    "\n",
    "forward_sorted = np.sort(forward)\n",
    "forward_cdf = np.arange(0, len(forward_sorted)) / float(len(forward_sorted)-1)\n",
    "plt.plot(forward_sorted, forward_cdf, linewidth=linewidth, label='Fwd', color='green')\n",
    "\n",
    "backward_sorted = np.sort(backward)\n",
    "backward_cdf = np.arange(0, len(backward_sorted)) / float(len(backward_sorted)-1)\n",
    "plt.plot(backward_sorted, backward_cdf, linewidth=linewidth, label='Bwd', color='blue', linestyle=\"--\")\n",
    "\n",
    "\n",
    "plt.xlabel('Batch compute time (ms)', fontsize=fontsize, x=0.45)\n",
    "plt.ylabel('CDF', fontsize=fontsize)\n",
    "plt.title('(a) CDF of batch compute time', fontsize=fontsize, y=1.05, x=0.35)\n",
    "\n",
    "plt.legend(fontsize=fontsize, markerfirst=False, borderpad=0.2,\n",
    "           bbox_to_anchor=(0.42, 0.8), handlelength=1, handletextpad=0.3,\n",
    "           frameon=False, ncol=2, loc=\"center\", columnspacing=1)\n",
    "figure.set_size_inches(1.48, 1)\n",
    "figure.set_dpi(100)\n",
    "plt.savefig('cdf.eps', bbox_inches='tight', transparent=True)\n",
    "\n",
    "plt.show()"
   ]
  },
  {
   "cell_type": "code",
   "execution_count": null,
   "metadata": {},
   "outputs": [],
   "source": []
  }
 ],
 "metadata": {
  "kernelspec": {
   "display_name": "dev",
   "language": "python",
   "name": "python3"
  },
  "language_info": {
   "codemirror_mode": {
    "name": "ipython",
    "version": 3
   },
   "file_extension": ".py",
   "mimetype": "text/x-python",
   "name": "python",
   "nbconvert_exporter": "python",
   "pygments_lexer": "ipython3",
   "version": "3.11.6"
  },
  "orig_nbformat": 4
 },
 "nbformat": 4,
 "nbformat_minor": 2
}
