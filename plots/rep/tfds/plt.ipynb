{
 "cells": [
  {
   "cell_type": "code",
   "execution_count": 1,
   "metadata": {},
   "outputs": [
    {
     "data": {
      "image/png": "[encoded data removed]",
      "text/plain": [
       "<Figure size 150x100 with 1 Axes>"
      ]
     },
     "metadata": {},
     "output_type": "display_data"
    }
   ],
   "source": [
    "import matplotlib.pyplot as plt\n",
    "import pandas as pd\n",
    "import numpy as np\n",
    "\n",
    "import matplotlib\n",
    "matplotlib.rcParams['pdf.fonttype'] = 42\n",
    "matplotlib.rcParams['ps.fonttype'] = 42\n",
    "\n",
    "fontsize=9\n",
    "\n",
    "plt.rcParams[\"font.family\"] = \"Arial\"\n",
    "plt.rcParams[\"font.size\"] = fontsize\n",
    "\n",
    "\n",
    "fig = plt.gcf()\n",
    "\n",
    "columns = ['worker', 'emulator_time', 'gpu_time']\n",
    "\n",
    "# ssd, 24 workers, 8 v100\n",
    "df = pd.read_csv('speedup.dat', sep='\\t', names=columns)\n",
    "\n",
    "\n",
    "def get_speedups(times, baseline):\n",
    "\tres = []\n",
    "\tfor t in times:\n",
    "\t\tres.append(baseline/t)\n",
    "\treturn res\n",
    "\n",
    "emulator_baseline = 38.84659195\n",
    "emulator_times = df['emulator_time'].tolist()\n",
    "emulator_speedups = get_speedups(emulator_times, emulator_baseline)\n",
    "\n",
    "gpu_baseline = 40.62999511\n",
    "gpu_times = df['gpu_time'].tolist()\n",
    "gpu_speedups = get_speedups(gpu_times, gpu_baseline)\n",
    "\n",
    "workers = df['worker'].tolist()\n",
    "\n",
    "\n",
    "plt.plot(workers, emulator_speedups, marker='^', markersize=3, linestyle='-', color='#00CCCC', label='Speedup', linewidth=1)\n",
    "\n",
    "# plt.plot(workers, gpu_speedups, marker='o', markersize=10, linestyle='-', color='green', label='Speedup-GPEmu')\n",
    "\n",
    "\n",
    "\n",
    "plt.axhline(y=1, color='#F2AA3C', linestyle='--', label='Baseline', linewidth=1)\n",
    "\n",
    "\n",
    "\n",
    "plt.ylim(0,5)\n",
    "# Adding labels and title\n",
    "plt.xticks(range(0,14,2), fontsize=fontsize)\n",
    "plt.yticks([1, 2, 3, 4, 5], fontsize=fontsize)\n",
    "plt.xlabel('# of workers', fontsize=fontsize)\n",
    "plt.ylabel('Speedup', fontsize=fontsize)\n",
    "# plt.title('Training Time Speedup across\\nTF-DS worker count',fontsize=fontsize, pad=20)\n",
    "\n",
    "fig.set_size_inches(1.5, 1)\n",
    "fig.set_dpi(100)\n",
    "plt.legend(loc=\"center right\", ncol=1, frameon=False, handletextpad=0.1, columnspacing=0.5, handlelength=1, markerfirst=False, bbox_to_anchor=(1.08, 0.48))\n",
    "plt.annotate(\"w/ GPEmu\", xy=(0.5, 4.2), xytext=(0.6, 4.2))\n",
    "plt.savefig('tfds.eps',  bbox_inches='tight')\n",
    "# Displaying the chart\n",
    "plt.show()"
   ]
  },
  {
   "cell_type": "code",
   "execution_count": null,
   "metadata": {},
   "outputs": [],
   "source": []
  }
 ],
 "metadata": {
  "kernelspec": {
   "display_name": "napp-dev",
   "language": "python",
   "name": "python3"
  },
  "language_info": {
   "codemirror_mode": {
    "name": "ipython",
    "version": 3
   },
   "file_extension": ".py",
   "mimetype": "text/x-python",
   "name": "python",
   "nbconvert_exporter": "python",
   "pygments_lexer": "ipython3",
   "version": "3.11.6"
  },
  "orig_nbformat": 4
 },
 "nbformat": 4,
 "nbformat_minor": 2
}
