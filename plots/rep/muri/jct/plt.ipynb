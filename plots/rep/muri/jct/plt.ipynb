{
 "cells": [
  {
   "cell_type": "code",
   "execution_count": 1,
   "metadata": {},
   "outputs": [
    {
     "name": "stdout",
     "output_type": "stream",
     "text": [
      "[1.35, 1.0]\n"
     ]
    },
    {
     "data": {
      "image/png": "[encoded data removed]",
      "text/plain": [
       "<Figure size 150x100 with 1 Axes>"
      ]
     },
     "metadata": {},
     "output_type": "display_data"
    }
   ],
   "source": [
    "import matplotlib.pyplot as plt\n",
    "import pandas as pd\n",
    "import numpy as np\n",
    "\n",
    "import matplotlib\n",
    "matplotlib.rcParams['pdf.fonttype'] = 42\n",
    "matplotlib.rcParams['ps.fonttype'] = 42\n",
    "\n",
    "fontsize=8\n",
    "plt.rcParams[\"font.family\"] = \"Arial\"\n",
    "plt.rcParams[\"font.size\"] = fontsize\n",
    "\n",
    "fig = plt.gcf()\n",
    "fig.set_size_inches(1.5, 1)\n",
    "\n",
    "columns = ['scheduler', 'emulator', 'paper']\n",
    "\n",
    "# ssd, 24 workers, 8 v100\n",
    "# df = pd.read_csv('ffcv.csv.dali', sep='\\t', names=columns)\n",
    "df = pd.read_csv('data.csv', sep='\\t', names=columns)\n",
    "\n",
    "emulated_values = df['emulator'].tolist()\n",
    "paper_values = df['paper'].tolist()\n",
    "categories = df['scheduler'].tolist()\n",
    "\n",
    "num_subcategories = 2\n",
    "bar_width = 0.25\n",
    "index = np.arange(len(categories))\n",
    "\n",
    "# Plotting the bar chart\n",
    "print(emulated_values)\n",
    "plt.bar(index, paper_values, bar_width, label='Paper', color='blue', hatch=\"\\\\\\\\\", edgecolor=\"black\")\n",
    "plt.bar(index + 1 * bar_width, emulated_values, bar_width, label='w/ GPEmu', color='#0BEF48', hatch=\"xx\", edgecolor=\"black\")\n",
    "\n",
    "\n",
    "yticks=[0,1,2]\n",
    "plt.ylim(0,2)\n",
    "plt.xlim(-0.3,1.5)\n",
    "# Adding labels and title\n",
    "plt.xticks(index + (bar_width) / 2, categories, fontsize=fontsize)\n",
    "plt.yticks(yticks, yticks, fontsize=fontsize)\n",
    "plt.xlabel('Scheduler', fontsize=fontsize)\n",
    "plt.ylabel('Makespan (normalized)', fontsize=fontsize, y=0.4)\n",
    "title = plt.title('(b) Normalized Makespan',fontsize=fontsize, pad=9, x=0.4)\n",
    "# title.set_position((0.4, 0))\n",
    "\n",
    "fig.set_dpi(100)\n",
    "plt.legend(fontsize=fontsize, frameon=False, markerfirst=False, handlelength=1, handletextpad=0.2, bbox_to_anchor=(1.06, 1.09), loc=\"upper right\")\n",
    "plt.savefig('fig.eps',  bbox_inches='tight')\n",
    "# Displaying the chart\n",
    "plt.savefig('fig.png',  bbox_inches='tight')"
   ]
  },
  {
   "cell_type": "code",
   "execution_count": null,
   "metadata": {},
   "outputs": [],
   "source": []
  }
 ],
 "metadata": {
  "kernelspec": {
   "display_name": "napp-dev",
   "language": "python",
   "name": "python3"
  },
  "language_info": {
   "codemirror_mode": {
    "name": "ipython",
    "version": 3
   },
   "file_extension": ".py",
   "mimetype": "text/x-python",
   "name": "python",
   "nbconvert_exporter": "python",
   "pygments_lexer": "ipython3",
   "version": "3.11.6"
  },
  "orig_nbformat": 4
 },
 "nbformat": 4,
 "nbformat_minor": 2
}
