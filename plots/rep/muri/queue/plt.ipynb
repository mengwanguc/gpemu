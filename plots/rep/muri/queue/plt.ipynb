{
 "cells": [
  {
   "cell_type": "code",
   "execution_count": 1,
   "metadata": {},
   "outputs": [
    {
     "data": {
      "image/png": "[encoded data removed]",
      "text/plain": [
       "<Figure size 150x100 with 1 Axes>"
      ]
     },
     "metadata": {},
     "output_type": "display_data"
    }
   ],
   "source": [
    "import matplotlib.pyplot as plt\n",
    "import pandas as pd\n",
    "import numpy as np\n",
    "\n",
    "\n",
    "import matplotlib\n",
    "matplotlib.rcParams['pdf.fonttype'] = 42\n",
    "matplotlib.rcParams['ps.fonttype'] = 42\n",
    "\n",
    "fontsize=8\n",
    "plt.rcParams[\"font.family\"] = \"Arial\"\n",
    "plt.rcParams[\"font.size\"] = fontsize\n",
    "\n",
    "fig = plt.gcf()\n",
    "fig.set_size_inches(1.5, 1)\n",
    "\n",
    "columns = ['queue', 'time']\n",
    "\n",
    "colors = ['#F2AA3C', '#00cccc']\n",
    "linestyles = ['-', '--']\n",
    "filenames = ['srtf', 'muri']\n",
    "labels =  ['SRTF', 'Muri-S']\n",
    "\n",
    "x = []\n",
    "y = []\n",
    "\n",
    "for i in range(2):\n",
    "    filename = '{}.csv'.format(filenames[i])\n",
    "    df = pd.read_csv(filename, names=columns)\n",
    "    times = df['time'].tolist()\n",
    "    queues = df['queue'].tolist()\n",
    "    plt.plot(times, queues, linestyle=linestyles[i], color=colors[i], label='{}'.format(labels[i]))\n",
    "\n",
    "\n",
    "\n",
    "plt.ylim(0,10)\n",
    "plt.xlim(0,600)\n",
    "# Adding labels and title\n",
    "# xticks = range(0,101,50)\n",
    "yticks = range(0,11,5)\n",
    "plt.xticks(fontsize=fontsize)\n",
    "plt.yticks(yticks, fontsize=fontsize)\n",
    "plt.xlabel('Time (s)', fontsize=fontsize)\n",
    "plt.ylabel('Queue length', fontsize=fontsize)\n",
    "plt.title('(a) Queue length by time',fontsize=fontsize, pad=9)\n",
    "plt.annotate(\"w/ GPEMu\", xy=(10, 8), xytext=(120, 8))\n",
    "\n",
    "fig.set_dpi(100)\n",
    "plt.legend(fontsize=fontsize, markerfirst=False, frameon=False, loc=\"center right\", )\n",
    "plt.savefig('fig.png',  bbox_inches='tight')\n",
    "plt.savefig('fig.eps',  bbox_inches='tight')"
   ]
  },
  {
   "cell_type": "code",
   "execution_count": 12,
   "metadata": {},
   "outputs": [
    {
     "data": {
      "text/html": [
       "<div>\n",
       "<style scoped>\n",
       "    .dataframe tbody tr th:only-of-type {\n",
       "        vertical-align: middle;\n",
       "    }\n",
       "\n",
       "    .dataframe tbody tr th {\n",
       "        vertical-align: top;\n",
       "    }\n",
       "\n",
       "    .dataframe thead th {\n",
       "        text-align: right;\n",
       "    }\n",
       "</style>\n",
       "<table border=\"1\" class=\"dataframe\">\n",
       "  <thead>\n",
       "    <tr style=\"text-align: right;\">\n",
       "      <th></th>\n",
       "      <th>queue</th>\n",
       "      <th>time</th>\n",
       "    </tr>\n",
       "  </thead>\n",
       "  <tbody>\n",
       "    <tr>\n",
       "      <th>0</th>\n",
       "      <td>0\\t8</td>\n",
       "      <td>NaN</td>\n",
       "    </tr>\n",
       "    <tr>\n",
       "      <th>1</th>\n",
       "      <td>3\\t7</td>\n",
       "      <td>NaN</td>\n",
       "    </tr>\n",
       "    <tr>\n",
       "      <th>2</th>\n",
       "      <td>5\\t6</td>\n",
       "      <td>NaN</td>\n",
       "    </tr>\n",
       "    <tr>\n",
       "      <th>3</th>\n",
       "      <td>10\\t5</td>\n",
       "      <td>NaN</td>\n",
       "    </tr>\n",
       "    <tr>\n",
       "      <th>4</th>\n",
       "      <td>16\\t4</td>\n",
       "      <td>NaN</td>\n",
       "    </tr>\n",
       "    <tr>\n",
       "      <th>5</th>\n",
       "      <td>26\\t3</td>\n",
       "      <td>NaN</td>\n",
       "    </tr>\n",
       "    <tr>\n",
       "      <th>6</th>\n",
       "      <td>35\\t2</td>\n",
       "      <td>NaN</td>\n",
       "    </tr>\n",
       "    <tr>\n",
       "      <th>7</th>\n",
       "      <td>44\\t1</td>\n",
       "      <td>NaN</td>\n",
       "    </tr>\n",
       "    <tr>\n",
       "      <th>8</th>\n",
       "      <td>55\\t0</td>\n",
       "      <td>NaN</td>\n",
       "    </tr>\n",
       "  </tbody>\n",
       "</table>\n",
       "</div>"
      ],
      "text/plain": [
       "   queue  time\n",
       "0   0\\t8   NaN\n",
       "1   3\\t7   NaN\n",
       "2   5\\t6   NaN\n",
       "3  10\\t5   NaN\n",
       "4  16\\t4   NaN\n",
       "5  26\\t3   NaN\n",
       "6  35\\t2   NaN\n",
       "7  44\\t1   NaN\n",
       "8  55\\t0   NaN"
      ]
     },
     "execution_count": 12,
     "metadata": {},
     "output_type": "execute_result"
    }
   ],
   "source": [
    "df"
   ]
  },
  {
   "cell_type": "code",
   "execution_count": null,
   "metadata": {},
   "outputs": [],
   "source": []
  }
 ],
 "metadata": {
  "kernelspec": {
   "display_name": "napp-dev",
   "language": "python",
   "name": "python3"
  },
  "language_info": {
   "codemirror_mode": {
    "name": "ipython",
    "version": 3
   },
   "file_extension": ".py",
   "mimetype": "text/x-python",
   "name": "python",
   "nbconvert_exporter": "python",
   "pygments_lexer": "ipython3",
   "version": "3.11.6"
  },
  "orig_nbformat": 4
 },
 "nbformat": 4,
 "nbformat_minor": 2
}
