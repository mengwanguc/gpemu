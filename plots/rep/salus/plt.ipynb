{
 "cells": [
  {
   "cell_type": "code",
   "execution_count": 1,
   "metadata": {},
   "outputs": [
    {
     "data": {
      "image/png": "[encoded data removed]",
      "text/plain": [
       "<Figure size 175x110 with 1 Axes>"
      ]
     },
     "metadata": {},
     "output_type": "display_data"
    }
   ],
   "source": [
    "import matplotlib.pyplot as plt\n",
    "import pandas as pd\n",
    "import numpy as np\n",
    "\n",
    "import matplotlib\n",
    "matplotlib.rcParams['pdf.fonttype'] = 42\n",
    "matplotlib.rcParams['ps.fonttype'] = 42\n",
    "\n",
    "fontsize=8\n",
    "\n",
    "plt.rcParams[\"font.family\"] = \"Arial\"\n",
    "plt.rcParams[\"font.size\"] = fontsize\n",
    "\n",
    "fig = plt.gcf()\n",
    "fig.set_size_inches(1.75, 1.1)\n",
    "\n",
    "\n",
    "columns = ['app_id', 'batch', 'time', 'throughput']\n",
    "\n",
    "t0 = 1704567921.1334465\n",
    "\n",
    "colors = ['orange', 'blue', 'green']\n",
    "linestyles = ['--', ':', '-.']\n",
    "linewidths = [3,2,1]\n",
    "\n",
    "x = []\n",
    "y = []\n",
    "\n",
    "for i in range(3):\n",
    "    filename = 'app{}.csv'.format(i+1)\n",
    "    df = pd.read_csv(filename, sep='\\t', names=columns)\n",
    "    times = df['time'].tolist()\n",
    "    times = [float(t)-t0 for t in times]\n",
    "    x.append(times)\n",
    "    throughput = df['throughput'].tolist()\n",
    "    y.append(throughput)\n",
    "    plt.plot(times, throughput, markersize=2, linestyle=linestyles[i], color=colors[i], lw=linewidths[i], label='Job {}'.format(i+1))\n",
    "\n",
    "common_x = np.sort(np.unique(np.concatenate((x[0], x[1], x[2]))))\n",
    "interpolated_y0 = np.interp(common_x, x[0], y[0])\n",
    "interpolated_y1 = np.interp(common_x, x[1], y[1])\n",
    "interpolated_y2 = np.interp(common_x, x[2], y[2])\n",
    "\n",
    "aggregated_data = interpolated_y0 + interpolated_y1 + interpolated_y2\n",
    "# plt.plot(common_x, aggregated_data, markersize=2, linestyle='-', color='black', lw=3, label='Aggregate'.format(i+1))\n",
    "\n",
    "plt.annotate(\"w/ $GPEmu$\", xy=(5, 250), xytext=(7, 255))\n",
    "\n",
    "plt.ylim(0,300)\n",
    "plt.xlim(0,530)\n",
    "# Adding labels and title\n",
    "# xticks = [256,512,1024]\n",
    "# yticks = [20,40,60,80]\n",
    "# plt.xticks(xticks, fontsize=fontsize)\n",
    "# plt.yticks(yticks, fontsize=fontsize)\n",
    "plt.xlabel('Time (s)', fontsize=fontsize)\n",
    "plt.ylabel('Images per sec', fontsize=fontsize, labelpad=3)\n",
    "title = plt.title('Throughput for 3 training jobs',fontsize=fontsize, pad=8)\n",
    "plt.tick_params(axis='y', which='both', pad=1)\n",
    "title.set_position([0.45, 1.05])  # Adjust the values as needed\n",
    "\n",
    "\n",
    "fig.set_dpi(100)\n",
    "plt.legend(fontsize=fontsize, loc='upper center', markerfirst=False, frameon=False, bbox_to_anchor=(0.65, 1))\n",
    "plt.savefig('fig.png',  bbox_inches='tight')\n",
    "plt.savefig('fig.eps',  bbox_inches='tight')"
   ]
  },
  {
   "cell_type": "code",
   "execution_count": null,
   "metadata": {},
   "outputs": [],
   "source": []
  }
 ],
 "metadata": {
  "kernelspec": {
   "display_name": "napp-dev",
   "language": "python",
   "name": "python3"
  },
  "language_info": {
   "codemirror_mode": {
    "name": "ipython",
    "version": 3
   },
   "file_extension": ".py",
   "mimetype": "text/x-python",
   "name": "python",
   "nbconvert_exporter": "python",
   "pygments_lexer": "ipython3",
   "version": "3.11.6"
  },
  "orig_nbformat": 4
 },
 "nbformat": 4,
 "nbformat_minor": 2
}
