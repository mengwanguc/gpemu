{
 "cells": [
  {
   "cell_type": "code",
   "execution_count": 1,
   "metadata": {},
   "outputs": [
    {
     "name": "stdout",
     "output_type": "stream",
     "text": [
      "Prop$_{GPEmu}$\t3.391451897339125\n",
      "Syn$_{GPEmu}$\t2.551724137931375\n",
      "Prop$_{Paper}$\t7.924965664765385\n",
      "Syn$_{Paper}$\t3.4557286619284273\n"
     ]
    },
    {
     "data": {
      "image/png": "[encoded data removed]",
      "text/plain": [
       "<Figure size 160x135 with 1 Axes>"
      ]
     },
     "metadata": {},
     "output_type": "display_data"
    }
   ],
   "source": [
    "import numpy as np\n",
    "import matplotlib.pyplot as plt\n",
    "import matplotlib\n",
    "import pandas as pd\n",
    "\n",
    "import matplotlib\n",
    "matplotlib.rcParams['pdf.fonttype'] = 42\n",
    "matplotlib.rcParams['ps.fonttype'] = 42\n",
    "\n",
    "fontsize=8\n",
    "\n",
    "plt.rcParams[\"font.family\"] = \"Arial\"\n",
    "plt.rcParams[\"font.size\"] = fontsize\n",
    "\n",
    "fig = plt.gcf()\n",
    "fig.set_size_inches(1.6, 1.35)\n",
    "fig.subplots_adjust(wspace=0.15)\n",
    "\n",
    "linewidth=1\n",
    "\n",
    "legends = ['Prop$_{GPEmu}$', 'Syn$_{GPEmu}$', 'Prop$_{Paper}$', 'Syn$_{Paper}$']\n",
    "filenames = ['gpemu-prop.csv', 'gpemu-synergy.csv', 'paper-prop.csv', 'paper-synergy.csv']\n",
    "colors = ['#F2AA3C', 'lightgreen', 'purple', 'blue']\n",
    "linestyles = ['-', '-', '--', ':']\n",
    "linewidths = [1, 2, 1 ,2]\n",
    "for i in range(4):\n",
    "\tdf = pd.read_csv('srtf/'+filenames[i], delimiter=',', header=None, names=['jct', 'cdf'])\n",
    "\tjct = [float(x) for x in df['jct'].to_list()]\n",
    "\tcdf = [float(x) for x in df['cdf'].to_list()]\n",
    "\tprint('{}\\t{}'.format(legends[i], sum(jct)/len(jct)))\n",
    "\tjct.sort()\n",
    "\tcdf.sort()\n",
    "\tjct = [0] + jct\n",
    "\tcdf = [0] + cdf\n",
    "\tplt.plot(jct, cdf, linewidth=linewidths[i], linestyle=linestyles[i], label=legends[i], color=colors[i])\n",
    "\t\n",
    "x_range = [0,12]\n",
    "y_range = [0,1]\n",
    "xticks = [0,4,8,12]\n",
    "yticks = [0,0.2,0.4,0.6,0.8,1]\n",
    "plt.ylim(y_range)\n",
    "plt.xlim(x_range)\n",
    "plt.xticks(xticks, xticks,fontsize=fontsize)\n",
    "plt.yticks(yticks, yticks, fontsize=fontsize)\n",
    "\n",
    "\n",
    "# plt.ylabel('CDF of JCT', fontsize=fontsize)\n",
    "plt.xlabel('JCT Hour', fontsize=fontsize)\n",
    "plt.title('(b) SRTF Policy', fontsize=fontsize, y=1, x=0.48)\n",
    "\n",
    "plt.legend(loc=\"lower right\", ncol=1, bbox_to_anchor=(1.05,-0.07), markerfirst=False, columnspacing=1, \n",
    "\t\t   handlelength=1, handletextpad=0.2, frameon=False, labelspacing=0.2)\n",
    "\n",
    "fig.set_dpi(100)\n",
    "plt.savefig('srtf-cdf.eps', bbox_inches='tight')\n",
    "plt.savefig('srtf-cdf.png', bbox_inches='tight')\n"
   ]
  },
  {
   "cell_type": "code",
   "execution_count": null,
   "metadata": {},
   "outputs": [],
   "source": []
  }
 ],
 "metadata": {
  "kernelspec": {
   "display_name": "napp-dev",
   "language": "python",
   "name": "python3"
  },
  "language_info": {
   "codemirror_mode": {
    "name": "ipython",
    "version": 3
   },
   "file_extension": ".py",
   "mimetype": "text/x-python",
   "name": "python",
   "nbconvert_exporter": "python",
   "pygments_lexer": "ipython3",
   "version": "3.11.6"
  },
  "orig_nbformat": 4
 },
 "nbformat": 4,
 "nbformat_minor": 2
}
