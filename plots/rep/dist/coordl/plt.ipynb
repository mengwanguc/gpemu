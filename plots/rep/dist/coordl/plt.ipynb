{
 "cells": [
  {
   "cell_type": "code",
   "execution_count": 1,
   "metadata": {},
   "outputs": [
    {
     "data": {
      "image/png": "[encoded data removed]",
      "text/plain": [
       "<Figure size 280x80 with 2 Axes>"
      ]
     },
     "metadata": {},
     "output_type": "display_data"
    }
   ],
   "source": [
    "import matplotlib.pyplot as plt\n",
    "import pandas as pd\n",
    "import numpy as np\n",
    "import matplotlib\n",
    "matplotlib.rcParams['pdf.fonttype'] = 42\n",
    "matplotlib.rcParams['ps.fonttype'] = 42\n",
    "\n",
    "fontsize=8\n",
    "plt.rcParams[\"font.family\"] = \"Arial\"\n",
    "plt.rcParams[\"font.size\"] = fontsize\n",
    "\n",
    "fig = plt.gcf()\n",
    "fig.set_dpi(100)\n",
    "\n",
    "fig.set_size_inches(2.8, 0.8)\n",
    "fig.subplots_adjust(wspace=0.1)\n",
    "plt.subplot(1,2,1)\n",
    "\n",
    "columns = ['nodes', 'baseline', 'gpemu', 'paper']\n",
    "\n",
    "# ssd, 24 workers, 8 v100\n",
    "df = pd.read_csv('65cache/data.csv', sep='\\t', header=None, names=columns)\n",
    "\n",
    "num_subcategories = 2\n",
    "baseline_values = df['baseline'].tolist()\n",
    "gpemu_values = df['gpemu'].tolist()\n",
    "paper_values = df['paper'].tolist()\n",
    "\n",
    "nodes = df['nodes'].tolist()\n",
    "categories = nodes\n",
    "\n",
    "bar_width = 0.2\n",
    "index = np.arange(len(categories))\n",
    "\n",
    "# Plotting the bar chart\n",
    "plt.bar(index, baseline_values, bar_width, label='Baseline', color='orange', hatch=\"//\", edgecolor=\"black\")\n",
    "plt.bar(index + 1 * bar_width, paper_values, bar_width, label='CoorDL$_{Paper}$', color='blue', hatch=\"\\\\\\\\\", edgecolor=\"black\")\n",
    "plt.bar(index + 2 * bar_width, gpemu_values, bar_width, label='CoorDL$_{GPEmu}$', color='#0BEF48', hatch=\"xx\", edgecolor=\"black\")\n",
    "\n",
    "plt.legend(loc=\"upper right\", bbox_to_anchor=(3, 1.08), ncol=1, markerfirst=False, columnspacing=1, handlelength=1, handletextpad=0.1, frameon=False)\n",
    "\n",
    "plt.ylim(0,12)\n",
    "# Adding labels and title\n",
    "plt.xticks(index + (bar_width * num_subcategories) / 2, categories, fontsize=fontsize)\n",
    "plt.yticks(range(0,12+1, 4), range(0,12+1, 4), fontsize=fontsize)\n",
    "plt.ylabel('Speedup', fontsize=fontsize, labelpad=-2)\n",
    "plt.annotate(\"w/ 65% cache\", xy=(0.1,9), xytext=(0,9))\n",
    "# title = plt.title('(a) With 65% Local cache', fontsize=fontsize, pad=9)\n",
    "# title.set_position((0.4, 0.5))\n",
    "\n",
    "\n",
    "plt.subplot(1,2,2)\n",
    "\n",
    "columns = ['nodes', 'baseline', 'gpemu', 'paper']\n",
    "\n",
    "# ssd, 24 workers, 8 v100\n",
    "df = pd.read_csv('40cache/data.csv', sep='\\t', header=None, names=columns)\n",
    "\n",
    "num_subcategories = 3\n",
    "baseline_values = df['baseline'].tolist()\n",
    "gpemu_values = df['gpemu'].tolist()\n",
    "paper_values = df['paper'].tolist()\n",
    "\n",
    "nodes = df['nodes'].tolist()\n",
    "categories = nodes\n",
    "\n",
    "bar_width = 0.2\n",
    "index = np.arange(len(categories))\n",
    "\n",
    "# Plotting the bar chart\n",
    "plt.bar(index, baseline_values, bar_width, label='Baseline', color='#F2AA3C', hatch=\"//\", edgecolor=\"black\")\n",
    "plt.bar(index + 1 * bar_width, paper_values, bar_width, label='CoorDL-Paper', color='blue', hatch=\"\\\\\\\\\", edgecolor=\"black\")\n",
    "plt.bar(index + 2 * bar_width, gpemu_values, bar_width, label='CoorDL-GPEmu', color='#0BEF48', hatch=\"xx\", edgecolor=\"black\")\n",
    "\n",
    "plt.ylim(0,12)\n",
    "# Adding labels and title\n",
    "plt.xticks(index + (bar_width * num_subcategories) / 2, categories, fontsize=fontsize)\n",
    "plt.yticks([])\n",
    "plt.xlabel('# of nodes', fontsize=fontsize, x=-0, labelpad=-1)\n",
    "plt.annotate(\"w/ 40% cache\", xy=(0.1,9), xytext=(0,9))\n",
    "# plt.ylabel('Speedup', fontsize=fontsize, labelpad=20)\n",
    "# plt.title('(b) With 40% Local cache',fontsize=fontsize, pad=9, x=0.55)\n",
    "\n",
    "\n",
    "plt.savefig('speedup.eps',  bbox_inches='tight')\n",
    "# Displaying the chart\n",
    "plt.show()\n"
   ]
  },
  {
   "cell_type": "code",
   "execution_count": null,
   "metadata": {},
   "outputs": [],
   "source": []
  }
 ],
 "metadata": {
  "kernelspec": {
   "display_name": "napp-dev",
   "language": "python",
   "name": "python3"
  },
  "language_info": {
   "codemirror_mode": {
    "name": "ipython",
    "version": 3
   },
   "file_extension": ".py",
   "mimetype": "text/x-python",
   "name": "python",
   "nbconvert_exporter": "python",
   "pygments_lexer": "ipython3",
   "version": "3.11.6"
  },
  "orig_nbformat": 4
 },
 "nbformat": 4,
 "nbformat_minor": 2
}
