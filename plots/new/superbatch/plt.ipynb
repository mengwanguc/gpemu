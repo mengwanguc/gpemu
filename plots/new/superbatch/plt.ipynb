{
 "cells": [
  {
   "cell_type": "code",
   "execution_count": 1,
   "metadata": {},
   "outputs": [
    {
     "data": {
      "image/png": "[encoded data removed]",
      "text/plain": [
       "<Figure size 150x120 with 1 Axes>"
      ]
     },
     "metadata": {},
     "output_type": "display_data"
    }
   ],
   "source": [
    "import matplotlib.pyplot as plt\n",
    "import numpy as np\n",
    "import pandas as pd\n",
    "\n",
    "import matplotlib\n",
    "matplotlib.rcParams['pdf.fonttype'] = 42\n",
    "matplotlib.rcParams['ps.fonttype'] = 42\n",
    "\n",
    "fontsize=8\n",
    "\n",
    "plt.rcParams[\"font.family\"] = \"Arial\"\n",
    "plt.rcParams[\"font.size\"] = fontsize\n",
    "\n",
    "\n",
    "n_groups = 4\n",
    "columns = ['superbatch', 'epoch_time']\n",
    "\n",
    "df = pd.read_csv('data.csv', sep='\\t', header=None, names=columns)\n",
    "\n",
    "superbatch = df['superbatch'].to_list()\n",
    "epoch_time = df['epoch_time'].to_list()\n",
    "\n",
    "colors = ['#B682F8', 'yellow', 'cyan']\n",
    "labels = ['Sync', 'Async', 'Async+Super']\n",
    "hatches = [\"//\", \"\\\\\\\\\", \"xx\"]\n",
    "\n",
    "# create plot\n",
    "fig, ax1 = plt.subplots(1, 1)\n",
    "\n",
    "ax1.set_ylim(0,800)\n",
    "\n",
    "bar_width = 0.5\n",
    "\n",
    "plt.bar('NO', epoch_time[0], color=colors[0], width=bar_width, hatch=hatches[0], edgecolor=\"black\", label=labels[0])\n",
    "plt.bar('1', epoch_time[1], color=colors[1], width=bar_width, hatch=hatches[1], edgecolor=\"black\", label=labels[1])\n",
    "plt.bar('{}'.format(superbatch[2]), epoch_time[2], color=colors[2], width=bar_width, hatch=hatches[2], edgecolor=\"black\", label=labels[2])\n",
    "\n",
    "for i in range(3, len(epoch_time), 1):\n",
    "    plt.bar('{}'.format(superbatch[i]), epoch_time[i], color=colors[2], width=bar_width, hatch=hatches[2], edgecolor=\"black\")\n",
    "\n",
    "\n",
    "ax1.set_ylabel('Epoch time (s)', fontsize=fontsize, labelpad=1)\n",
    "ax1.set_xlabel('Superbatch ratio', fontsize=fontsize, x=0.5)\n",
    "ax1.yaxis.set_tick_params(pad=0)\n",
    "\n",
    "# plt.xticks(xtics, xlabels)\n",
    "\n",
    "# legend reverse order\n",
    "handles, labels = ax1.get_legend_handles_labels()\n",
    "order = [0, 1, 2]\n",
    "ax1.legend([handles[idx] for idx in order],\n",
    "           [labels[idx] for idx in order],\n",
    "           markerfirst=False, bbox_to_anchor=(1.052, 1.08), frameon=False, \n",
    "           ncol=1, handlelength=1, markerscale=0.5, handletextpad=0.5, \n",
    "           labelspacing=0.15, loc=\"upper right\")\n",
    "\n",
    "plt.annotate(\"w/ GPEMu\", xy=(0, 400), xytext=(-0.3, 700),fontsize=fontsize)\n",
    "\n",
    "\n",
    "fig.set_size_inches(1.5, 1.2)\n",
    "fig.set_dpi(100)\n",
    "\n",
    "plt.savefig('figure.eps',  bbox_inches='tight')\n",
    "\n",
    "plt.show()"
   ]
  },
  {
   "cell_type": "code",
   "execution_count": null,
   "metadata": {},
   "outputs": [],
   "source": []
  }
 ],
 "metadata": {
  "kernelspec": {
   "display_name": "napp-dev",
   "language": "python",
   "name": "python3"
  },
  "language_info": {
   "codemirror_mode": {
    "name": "ipython",
    "version": 3
   },
   "file_extension": ".py",
   "mimetype": "text/x-python",
   "name": "python",
   "nbconvert_exporter": "python",
   "pygments_lexer": "ipython3",
   "version": "3.11.6"
  },
  "orig_nbformat": 4
 },
 "nbformat": 4,
 "nbformat_minor": 2
}
