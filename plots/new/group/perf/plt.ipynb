{
 "cells": [
  {
   "cell_type": "code",
   "execution_count": 1,
   "metadata": {},
   "outputs": [
    {
     "data": {
      "image/png": "[encoded data removed]",
      "text/plain": [
       "<Figure size 150x100 with 1 Axes>"
      ]
     },
     "metadata": {},
     "output_type": "display_data"
    }
   ],
   "source": [
    "import matplotlib.pyplot as plt\n",
    "import pandas as pd \n",
    "\n",
    "import matplotlib\n",
    "matplotlib.rcParams['pdf.fonttype'] = 42\n",
    "matplotlib.rcParams['ps.fonttype'] = 42\n",
    "\n",
    "import matplotlib\n",
    "matplotlib.rcParams['pdf.fonttype'] = 42\n",
    "matplotlib.rcParams['ps.fonttype'] = 42\n",
    "\n",
    "fig = plt.gcf()\n",
    "fontsize = 8\n",
    "plt.rcParams[\"font.family\"] = \"Arial\"\n",
    "plt.rcParams[\"font.size\"] = fontsize\n",
    "fig.set_size_inches(1.5, 1)\n",
    "ax = fig.subplots()\n",
    "\n",
    "\n",
    "perf = (\n",
    "    pd\n",
    "    .read_csv(\"perf.csv\")\n",
    "    .eval(\"Total = Compute + Transfer + Stall\")\n",
    ")\n",
    "\n",
    "ax = (\n",
    "    perf\n",
    "    .loc[:, \"Total\"]\n",
    "    .plot(kind=\"bar\", stacked=True, xlabel=\"File Group Size\", ax=ax)\n",
    ")\n",
    "\n",
    "# Hatches list\n",
    "hatches = ['//', '\\\\\\\\']\n",
    "\n",
    "for i, bar in enumerate(ax.patches):\n",
    "\tif i == 0:\n",
    "\t\tbar.set_color(\"#B682F8\")\n",
    "\t\tbar.set_hatch(hatches[0])\n",
    "\t\tbar.set_edgecolor(\"black\")\n",
    "\telse:\n",
    "\t\tbar.set_color(\"cyan\")\n",
    "\t\tbar.set_hatch(hatches[1])\n",
    "\t\tbar.set_edgecolor(\"black\")\n",
    "\n",
    "plt.annotate(\"w/ GPEMu\", xy=(3, 400), xytext=(3, 420),fontsize=fontsize)\n",
    "\n",
    "\n",
    "plt.xticks([0, 1, 2, 3, 4, 5, 6], perf.loc[:, \"File Group Size\"], rotation=0)\n",
    "plt.title(\"(a) Grp's Effect on Epoch Time\", fontsize=fontsize, y=1.05, x=0.4)\n",
    "plt.ylabel(\"Epoch Training Time (s)\", y=0.45)\n",
    "plt.savefig(\"perf.eps\", bbox_inches=\"tight\", transparent=True)"
   ]
  },
  {
   "cell_type": "code",
   "execution_count": 56,
   "metadata": {},
   "outputs": [
    {
     "data": {
      "text/plain": [
       "[<matplotlib.patches.Rectangle at 0x147185bd0>,\n",
       " <matplotlib.patches.Rectangle at 0x147185a20>,\n",
       " <matplotlib.patches.Rectangle at 0x147185ff0>,\n",
       " <matplotlib.patches.Rectangle at 0x147186110>,\n",
       " <matplotlib.patches.Rectangle at 0x1471862f0>,\n",
       " <matplotlib.patches.Rectangle at 0x1471864d0>,\n",
       " <matplotlib.patches.Rectangle at 0x1471866b0>,\n",
       " <matplotlib.patches.Rectangle at 0x1471868c0>,\n",
       " <matplotlib.patches.Rectangle at 0x1471859c0>,\n",
       " <matplotlib.patches.Rectangle at 0x147186d10>,\n",
       " <matplotlib.patches.Rectangle at 0x147186f50>,\n",
       " <matplotlib.patches.Rectangle at 0x147187130>,\n",
       " <matplotlib.patches.Rectangle at 0x147187310>,\n",
       " <matplotlib.patches.Rectangle at 0x1471874f0>,\n",
       " <matplotlib.patches.Rectangle at 0x147187700>,\n",
       " <matplotlib.patches.Rectangle at 0x1471859f0>,\n",
       " <matplotlib.patches.Rectangle at 0x147187b50>,\n",
       " <matplotlib.patches.Rectangle at 0x147187d90>,\n",
       " <matplotlib.patches.Rectangle at 0x147187f70>,\n",
       " <matplotlib.patches.Rectangle at 0x1471c0190>,\n",
       " <matplotlib.patches.Rectangle at 0x1471c0370>]"
      ]
     },
     "execution_count": 56,
     "metadata": {},
     "output_type": "execute_result"
    }
   ],
   "source": [
    "list(ax.patches)"
   ]
  },
  {
   "cell_type": "code",
   "execution_count": null,
   "metadata": {},
   "outputs": [],
   "source": []
  }
 ],
 "metadata": {
  "kernelspec": {
   "display_name": "napp-dev",
   "language": "python",
   "name": "python3"
  },
  "language_info": {
   "codemirror_mode": {
    "name": "ipython",
    "version": 3
   },
   "file_extension": ".py",
   "mimetype": "text/x-python",
   "name": "python",
   "nbconvert_exporter": "python",
   "pygments_lexer": "ipython3",
   "version": "3.11.6"
  },
  "orig_nbformat": 4
 },
 "nbformat": 4,
 "nbformat_minor": 2
}
